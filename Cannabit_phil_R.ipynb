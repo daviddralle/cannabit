{
  "nbformat": 4,
  "nbformat_minor": 0,
  "metadata": {
    "colab": {
      "provenance": [],
      "authorship_tag": "ABX9TyM80jWmJnbaxEJL+zkZ7FbC",
      "include_colab_link": true
    },
    "kernelspec": {
      "name": "ir",
      "display_name": "R"
    },
    "language_info": {
      "name": "R"
    }
  },
  "cells": [
    {
      "cell_type": "markdown",
      "metadata": {
        "id": "view-in-github",
        "colab_type": "text"
      },
      "source": [
        "<a href=\"https://colab.research.google.com/github/daviddralle/cannabit/blob/main/Cannabit_phil_R.ipynb\" target=\"_parent\"><img src=\"https://colab.research.google.com/assets/colab-badge.svg\" alt=\"Open In Colab\"/></a>"
      ]
    },
    {
      "cell_type": "markdown",
      "source": [
        "Install and load the R packages that will be used in this script"
      ],
      "metadata": {
        "id": "SDnzbB4L3mbf"
      }
    },
    {
      "cell_type": "code",
      "execution_count": 4,
      "metadata": {
        "colab": {
          "base_uri": "https://localhost:8080/"
        },
        "id": "hFJvqzNb3Qaw",
        "outputId": "cc6f89c1-3029-43bd-91df-e90a7d64ba3e"
      },
      "outputs": [
        {
          "output_type": "stream",
          "name": "stderr",
          "text": [
            "Installing package into ‘/usr/local/lib/R/site-library’\n",
            "(as ‘lib’ is unspecified)\n",
            "\n",
            "Installing package into ‘/usr/local/lib/R/site-library’\n",
            "(as ‘lib’ is unspecified)\n",
            "\n",
            "Installing package into ‘/usr/local/lib/R/site-library’\n",
            "(as ‘lib’ is unspecified)\n",
            "\n",
            "Installing package into ‘/usr/local/lib/R/site-library’\n",
            "(as ‘lib’ is unspecified)\n",
            "\n",
            "Installing package into ‘/usr/local/lib/R/site-library’\n",
            "(as ‘lib’ is unspecified)\n",
            "\n",
            "Installing package into ‘/usr/local/lib/R/site-library’\n",
            "(as ‘lib’ is unspecified)\n",
            "\n",
            "Installing package into ‘/usr/local/lib/R/site-library’\n",
            "(as ‘lib’ is unspecified)\n",
            "\n",
            "also installing the dependencies ‘rbibutils’, ‘Rdpack’, ‘minqa’, ‘nloptr’, ‘reformulas’, ‘RcppEigen’\n",
            "\n",
            "\n",
            "Installing package into ‘/usr/local/lib/R/site-library’\n",
            "(as ‘lib’ is unspecified)\n",
            "\n",
            "── \u001b[1mAttaching core tidyverse packages\u001b[22m ──────────────────────── tidyverse 2.0.0 ──\n",
            "\u001b[32m✔\u001b[39m \u001b[34mdplyr    \u001b[39m 1.1.4     \u001b[32m✔\u001b[39m \u001b[34mreadr    \u001b[39m 2.1.5\n",
            "\u001b[32m✔\u001b[39m \u001b[34mforcats  \u001b[39m 1.0.0     \u001b[32m✔\u001b[39m \u001b[34mstringr  \u001b[39m 1.5.1\n",
            "\u001b[32m✔\u001b[39m \u001b[34mggplot2  \u001b[39m 3.5.1     \u001b[32m✔\u001b[39m \u001b[34mtibble   \u001b[39m 3.2.1\n",
            "\u001b[32m✔\u001b[39m \u001b[34mlubridate\u001b[39m 1.9.4     \u001b[32m✔\u001b[39m \u001b[34mtidyr    \u001b[39m 1.3.1\n",
            "\u001b[32m✔\u001b[39m \u001b[34mpurrr    \u001b[39m 1.0.4     \n",
            "── \u001b[1mConflicts\u001b[22m ────────────────────────────────────────── tidyverse_conflicts() ──\n",
            "\u001b[31m✖\u001b[39m \u001b[34mdplyr\u001b[39m::\u001b[32mfilter()\u001b[39m masks \u001b[34mstats\u001b[39m::filter()\n",
            "\u001b[31m✖\u001b[39m \u001b[34mdplyr\u001b[39m::\u001b[32mlag()\u001b[39m    masks \u001b[34mstats\u001b[39m::lag()\n",
            "\u001b[36mℹ\u001b[39m Use the conflicted package (\u001b[3m\u001b[34m<http://conflicted.r-lib.org/>\u001b[39m\u001b[23m) to force all conflicts to become errors\n",
            "\n",
            "Attaching package: ‘pillar’\n",
            "\n",
            "\n",
            "The following object is masked from ‘package:dplyr’:\n",
            "\n",
            "    dim_desc\n",
            "\n",
            "\n",
            "\n",
            "Attaching package: ‘vctrs’\n",
            "\n",
            "\n",
            "The following object is masked from ‘package:dplyr’:\n",
            "\n",
            "    data_frame\n",
            "\n",
            "\n",
            "The following object is masked from ‘package:tibble’:\n",
            "\n",
            "    data_frame\n",
            "\n",
            "\n",
            "Loading required package: Matrix\n",
            "\n",
            "\n",
            "Attaching package: ‘Matrix’\n",
            "\n",
            "\n",
            "The following objects are masked from ‘package:tidyr’:\n",
            "\n",
            "    expand, pack, unpack\n",
            "\n",
            "\n",
            "\n",
            "Attaching package: ‘cowplot’\n",
            "\n",
            "\n",
            "The following object is masked from ‘package:lubridate’:\n",
            "\n",
            "    stamp\n",
            "\n",
            "\n"
          ]
        }
      ],
      "source": [
        "#Install the packages\n",
        "install.packages(\"dataRetrieval\")\n",
        "install.packages(\"tidyverse\")\n",
        "install.packages(\"lubridate\")\n",
        "install.packages(\"pillar\")\n",
        "install.packages(\"ellipsis\")\n",
        "install.packages(\"vctrs\")\n",
        "install.packages(\"lme4\")\n",
        "install.packages(\"cowplot\")\n",
        "##load the packages\n",
        "library(dataRetrieval)\n",
        "library(tidyverse)\n",
        "library(lubridate)\n",
        "library(pillar)\n",
        "library(ellipsis)\n",
        "library(vctrs)\n",
        "library(lme4)\n",
        "library(cowplot)"
      ]
    },
    {
      "cell_type": "code",
      "source": [
        "## download and load the flow data for both streams code to download flow data from the USGS Elder gauge site and create a new dataframe\n",
        "#discharge in cubic feet per second\n",
        "Elder_raw <- readNWISuv(siteNumbers = \"11475560\",\n",
        "                        parameterCd = \"00060\",\n",
        "                        startDate = \"2014-01-01\",\n",
        "                        endDate = \"2021-11-20\")\n",
        "\n",
        "##  add a column for year, renames X_00060_00000 to flow, and filter the dates to the desired interval, fir DOY need to make the year one year ahead of all the data you have, change year to categorical , subset to the dates you want, add a colum for water year\n",
        "#elder is 16.97 km sq drainage\n",
        "# 86400 seconds per day\n",
        "# 0.0283168 meter ^3 per cubic foot\n",
        "# 1000000 square m per sqaure km\n",
        "Elder_flow <- Elder_raw %>%\n",
        "  mutate(year = year(dateTime),\n",
        "         DOYtime = make_datetime(2050, month(dateTime), mday(dateTime), hour(dateTime), minute(dateTime)),\n",
        "         date = make_date(year(dateTime), month(dateTime), mday(dateTime)),\n",
        "         year = factor(year),\n",
        "         wyear =  ifelse(month(date) >= 10, year(date)+1, year(date)),\n",
        "         wyear = factor(wyear)) %>%\n",
        "  rename(discharge_cfs = X_00060_00000) %>%\n",
        "  filter(date >= \"2015-12-01\"& date <= \"2019-11-01\") %>%\n",
        "  mutate(discharge_mm_day = discharge_cfs * 86400 * 0.0283168 * (1/(16.97 * 1000000)) * 1000,\n",
        "         month = month(date),\n",
        "         year = year(date))\n",
        "# read in the dry creek data\n",
        "dry_creek_flow <- read.csv(\"https://raw.githubusercontent.com/daviddralle/cannabit/refs/heads/main/20211201_dry_discharge_daily.csv\") %>%\n",
        "  mutate(date = date(Date)) %>%\n",
        "  mutate(month = month(date),\n",
        "         year = year(date))\n",
        "# monthly summaries of both creeks\n",
        "#dry\n",
        "dry_creek_monthly <- dry_creek_flow %>%\n",
        "  group_by(month, year) %>%\n",
        "  summarise(mean_daily_q_mm_day = mean(runoff)) %>%\n",
        "  mutate(creek = \"Dry Creek\")\n",
        "#elder\n",
        "elder_monthly <- Elder_flow %>%\n",
        "  group_by(month, year) %>%\n",
        "  summarise(mean_daily_q_mm_day = mean(discharge_mm_day)) %>%\n",
        "  mutate(creek = \"Elder\")\n",
        "##merge the two stream datasets\n",
        "elder_dry_montly <- rbind(dry_creek_monthly, elder_monthly)\n",
        "\n",
        "#dataframe with both Elder and Dry and daily values of flow\n",
        "dry_creek_flow_daily <- dry_creek_flow %>%\n",
        "  select(date, year, month, runoff) %>%\n",
        "  rename(runoff_mm_day = runoff) %>%\n",
        "  mutate(stream = \"Dry Creek\",\n",
        "         flow_date = make_date(2050, month(date), mday(date)),\n",
        "         year = factor(year),\n",
        "         wyear =  ifelse(month(date) >= 10, year(date)+1, year(date)),\n",
        "         wyear = factor(wyear))\n",
        "\n",
        "elder_flow_daily <- Elder_flow %>%\n",
        "  group_by(date, year, month) %>%\n",
        "  summarize(runoff_mm_day = mean(discharge_mm_day)) %>%\n",
        "  mutate(stream = \"Elder\",\n",
        "         flow_date = make_date(2050, month(date), mday(date)),\n",
        "         year = factor(year),\n",
        "         wyear =  ifelse(month(date) >= 10, year(date)+1, year(date)),\n",
        "         wyear = factor(wyear))\n",
        "\n",
        "both_streams_daily = rbind(dry_creek_flow_daily, elder_flow_daily)"
      ],
      "metadata": {
        "colab": {
          "base_uri": "https://localhost:8080/"
        },
        "id": "BWjS6nbR6hJg",
        "outputId": "0c840604-7f93-4558-f455-324773205b6d"
      },
      "execution_count": 5,
      "outputs": [
        {
          "output_type": "stream",
          "name": "stderr",
          "text": [
            "GET: https://nwis.waterservices.usgs.gov/nwis/iv/?site=11475560&format=waterml,1.1&ParameterCd=00060&startDT=2014-01-01&endDT=2021-11-20\n",
            "\n",
            "\u001b[1m\u001b[22m`summarise()` has grouped output by 'month'. You can override using the\n",
            "`.groups` argument.\n",
            "\u001b[1m\u001b[22m`summarise()` has grouped output by 'month'. You can override using the\n",
            "`.groups` argument.\n",
            "\u001b[1m\u001b[22m`summarise()` has grouped output by 'date', 'year'. You can override using the\n",
            "`.groups` argument.\n"
          ]
        }
      ]
    },
    {
      "cell_type": "code",
      "source": [
        "##### cannabis farm use  ######\n",
        "### start by reading in the data for farm level water use\n",
        "## format column values and convert use estimates from m^3/month to mm/day. Columns that end in xxxx_phil are use estimates assuming no storage at the farm\n",
        "## (M^3/MONTH) * (1/cultivation area M^2) * (1month/ # days in month) * (1000mm/1m)\n",
        "farm_water_use <- read.csv(\"https://raw.githubusercontent.com/daviddralle/cannabit/refs/heads/main/20240621_Cannabis%20Farm%20Annual%20and%20Monthly%20Water%20Prediction%20Totals_Phil%20Task.csv\") %>%\n",
        "  mutate(JanWU_mm_day = JanWE_Pred_FullData * (1/CultvArea) * (1000) * (1/31),\n",
        "         FebWU_mm_day = FebWE_Pred_FullData * (1/CultvArea) * (1000) * (1/28),\n",
        "         MarWU_mm_day = MarWE_Pred_FullData * (1/CultvArea) * (1000) * (1/31),\n",
        "         AprWU_mm_day = AprWE_Pred_FullData * (1/CultvArea) * (1000) * (1/30),\n",
        "         MayWU_mm_day = MayWE_Pred_FullData * (1/CultvArea) * (1000) * (1/31),\n",
        "         JunWU_mm_day = JunWE_Pred_FullData * (1/CultvArea) * (1000) * (1/30),\n",
        "         JulWU_mm_day = JulWE_Pred_FullData * (1/CultvArea) * (1000) * (1/31),\n",
        "         AugWU_mm_day = AugWE_Pred_FullData * (1/CultvArea) * (1000) * (1/31),\n",
        "         SepWU_mm_day = SepWE_Pred_FullData * (1/CultvArea) * (1000) * (1/30),\n",
        "         OctWU_mm_day = OctWE_Pred_FullData * (1/CultvArea) * (1000) * (1/31),\n",
        "         NovWU_mm_day = NovWE_Pred_FullData * (1/CultvArea) * (1000) * (1/30),\n",
        "         DecWU_mm_day = DecWE_Pred_FullData * (1/CultvArea) * (1000) * (1/31))\n",
        "\n",
        "#convert this into a \"long dataframe and rename the months to graph\n",
        "farm_water_use_long <- farm_water_use %>%\n",
        "  select(ID, Catchment, CultvArea, WatershedHUC12, PropOutdoor, RefET, AvgAspect, JanWU_mm_day, FebWU_mm_day, MarWU_mm_day, AprWU_mm_day, MayWU_mm_day, JunWU_mm_day, JulWU_mm_day, AugWU_mm_day, SepWU_mm_day, OctWU_mm_day, NovWU_mm_day, DecWU_mm_day) %>%\n",
        "  gather(use_month, use_mm_day, JanWU_mm_day:DecWU_mm_day) %>%\n",
        "  mutate(month = substr(use_month, 1, 3)) %>%\n",
        "  select(-use_month) %>%\n",
        "  mutate(month_abrev = factor(month, levels = c(\"Jan\",\"Feb\", \"Mar\", \"Apr\", \"May\",\"Jun\",\"Jul\", \"Aug\", \"Sep\", \"Oct\", \"Nov\", \"Dec\"))) %>%\n",
        "  mutate(month = case_when(month_abrev == \"Jan\" ~ 1,\n",
        "                                  month_abrev == \"Feb\" ~ 2,\n",
        "                                  month_abrev == \"Mar\" ~ 3,\n",
        "                                  month_abrev == \"Apr\" ~ 4,\n",
        "                                  month_abrev == \"May\" ~ 5,\n",
        "                                  month_abrev == \"Jun\" ~ 6,\n",
        "                                  month_abrev == \"Jul\" ~ 7,\n",
        "                                  month_abrev == \"Aug\" ~ 8,\n",
        "                                  month_abrev == \"Sep\" ~ 9,\n",
        "                                  month_abrev == \"Oct\" ~ 10,\n",
        "                                  month_abrev == \"Nov\" ~ 11,\n",
        "                                  month_abrev == \"Dec\" ~ 12))\n",
        "\n",
        "## make a dataframe for export that sumarises reported use, and estimated use data by month\n",
        "monthly_use <- farm_water_use_long %>%\n",
        "  group_by(month) %>%\n",
        "  summarise(use_25_monthly_mm_day = quantile(use_mm_day, 0.25),\n",
        "            use_median_monthly_mm_day = median(use_mm_day),\n",
        "            use_75_monthly_mm_day = quantile(use_mm_day, 0.75),\n",
        "            use_90_monthly_mm_day = quantile(use_mm_day, 0.9),\n",
        "            use_95_monthly_mm_day = quantile(use_mm_day, 0.95))\n",
        "\n",
        "#convert to long format to later merge with discharge data from Elder and Dry\n",
        "monthly_use_long <- farm_water_use_long %>%\n",
        "  group_by(month) %>%\n",
        "  summarise(modeled_use_mm_day = quantile(use_mm_day, c(0.25,0.5,0.75,.9, 0.95))) %>%\n",
        "  mutate(quantile = rep(c(0.25,0.5,0.75,.9, 0.95), ))"
      ],
      "metadata": {
        "colab": {
          "base_uri": "https://localhost:8080/"
        },
        "id": "VsfXjnEn88Ap",
        "outputId": "ff724428-627e-462f-c34c-a84e6818622a"
      },
      "execution_count": 7,
      "outputs": [
        {
          "output_type": "stream",
          "name": "stderr",
          "text": [
            "Warning message:\n",
            "“\u001b[1m\u001b[22mReturning more (or less) than 1 row per `summarise()` group was deprecated in\n",
            "dplyr 1.1.0.\n",
            "\u001b[36mℹ\u001b[39m Please use `reframe()` instead.\n",
            "\u001b[36mℹ\u001b[39m When switching from `summarise()` to `reframe()`, remember that `reframe()`\n",
            "  always returns an ungrouped data frame and adjust accordingly.”\n",
            "\u001b[1m\u001b[22m`summarise()` has grouped output by 'month'. You can override using the\n",
            "`.groups` argument.\n"
          ]
        }
      ]
    },
    {
      "cell_type": "markdown",
      "source": [
        "Figure S1 panel A: boxplot of use use and month, y axis log scaled"
      ],
      "metadata": {
        "id": "OUf0RdK89Xbh"
      }
    },
    {
      "cell_type": "code",
      "source": [
        "\n",
        "predicted_farm_use <- ggplot(data = farm_water_use_long, aes(x = as.factor(month_abrev), y = use_mm_day))+\n",
        "  geom_boxplot()+\n",
        "  theme_classic(base_size = 14)+\n",
        "  ylab(\"Modeled use (mm/day)\")+\n",
        "  #scale_y_log10()+\n",
        "  xlab(element_blank())+\n",
        "  theme(legend.position = \"none\")\n",
        "predicted_farm_use\n",
        "#ggsave(\"20240917_predicted_farm_use_noLog_Y.png\", plot = predicted_farm_use, width =9, height = 6, dpi = 900)"
      ],
      "metadata": {
        "colab": {
          "base_uri": "https://localhost:8080/",
          "height": 437
        },
        "id": "fziZo0xk9V3X",
        "outputId": "75260b95-97ff-4011-cfa2-86a0f32fd782"
      },
      "execution_count": 8,
      "outputs": [
        {
          "output_type": "display_data",
          "data": {
            "text/plain": [
              "plot without title"
            ],
            "image/png": "[encoded data removed]"
          },
          "metadata": {
            "image/png": {
              "width": 420,
              "height": 420
            }
          }
        }
      ]
    },
    {
      "cell_type": "markdown",
      "source": [
        "Figure S1 Panel B"
      ],
      "metadata": {
        "id": "lX-J6pFI9mDi"
      }
    },
    {
      "cell_type": "code",
      "source": [
        "## find percentiles of water use for August\n",
        "levels((farm_water_use_long$month))\n",
        "aug_water <- farm_water_use_long %>%\n",
        "  filter(month == 8)\n",
        "water25 <- quantile(aug_water$use_mm_day, 0.25)\n",
        "median_water <- quantile(aug_water$use_mm_day, 0.5)\n",
        "water75 <-  quantile(aug_water$use_mm_day, 0.75)\n",
        "water90 <-  quantile(aug_water$use_mm_day, 0.9)\n",
        "water95 <-  quantile(aug_water$use_mm_day, 0.95)\n",
        "\n",
        "## Figure S1 Panel B: histogram of August water use\n",
        "august_use <- ggplot(data = filter(farm_water_use_long, month == 8), aes(x = use_mm_day))+\n",
        "  geom_histogram(color=\"black\", fill=\"white\")+\n",
        "  #scale_y_continuous(trans='log10')+\n",
        "  theme_classic(base_size = 12)+\n",
        "  xlab(\"August modeled use (mm/day)\") +\n",
        "  ylab(\"Number of farms\")+\n",
        "  geom_point(aes(x=median_water, y=0.85), colour=\"blue\", size = 2) +\n",
        "  geom_point(aes(x=water75, y=0.85), colour=\"blue\", size = 2)+\n",
        "  geom_point(aes(x=water90, y=0.85), colour=\"blue\", size = 2)+\n",
        "  geom_point(aes(x=water95, y=0.85), colour=\"blue\", size = 2)\n",
        "\n",
        "august_use\n",
        "#ggsave(\"20240917_august_predicted_use.png\", plot = august_use, width =5, height = 3, dpi = 900)"
      ],
      "metadata": {
        "colab": {
          "base_uri": "https://localhost:8080/",
          "height": 749
        },
        "id": "gOUaSYWX9iXt",
        "outputId": "8b9c436d-759d-45bb-f0e4-01a7020672ad"
      },
      "execution_count": 9,
      "outputs": [
        {
          "output_type": "display_data",
          "data": {
            "text/plain": [
              "NULL"
            ]
          },
          "metadata": {}
        },
        {
          "output_type": "stream",
          "name": "stderr",
          "text": [
            "Warning message in geom_point(aes(x = median_water, y = 0.85), colour = \"blue\", :\n",
            "“\u001b[1m\u001b[22mAll aesthetics have length 1, but the data has 7115 rows.\n",
            "\u001b[36mℹ\u001b[39m Please consider using `annotate()` or provide this layer with data containing\n",
            "  a single row.”\n",
            "Warning message in geom_point(aes(x = water75, y = 0.85), colour = \"blue\", size = 2):\n",
            "“\u001b[1m\u001b[22mAll aesthetics have length 1, but the data has 7115 rows.\n",
            "\u001b[36mℹ\u001b[39m Please consider using `annotate()` or provide this layer with data containing\n",
            "  a single row.”\n",
            "Warning message in geom_point(aes(x = water90, y = 0.85), colour = \"blue\", size = 2):\n",
            "“\u001b[1m\u001b[22mAll aesthetics have length 1, but the data has 7115 rows.\n",
            "\u001b[36mℹ\u001b[39m Please consider using `annotate()` or provide this layer with data containing\n",
            "  a single row.”\n",
            "Warning message in geom_point(aes(x = water95, y = 0.85), colour = \"blue\", size = 2):\n",
            "“\u001b[1m\u001b[22mAll aesthetics have length 1, but the data has 7115 rows.\n",
            "\u001b[36mℹ\u001b[39m Please consider using `annotate()` or provide this layer with data containing\n",
            "  a single row.”\n",
            "\u001b[1m\u001b[22m`stat_bin()` using `bins = 30`. Pick better value with `binwidth`.\n"
          ]
        },
        {
          "output_type": "display_data",
          "data": {
            "text/plain": [
              "plot without title"
            ],
            "image/png": "[encoded data removed]"
          },
          "metadata": {
            "image/png": {
              "width": 420,
              "height": 420
            }
          }
        }
      ]
    },
    {
      "cell_type": "markdown",
      "source": [
        "Cannabis coverage on the landscape"
      ],
      "metadata": {
        "id": "gADKSiJn-Fpw"
      }
    },
    {
      "cell_type": "code",
      "source": [
        " ##Figure S2##\n",
        "## updated 2024 06 10 to look at the sizes of grows and areal coverage of farms in Butsic et al. 2018 in Mendocino and Humboldt\n",
        "cannabis_area <- read_csv(\"https://raw.githubusercontent.com/daviddralle/cannabit/refs/heads/main/20240405_Full_Catchment_Statistics.csv\") %>%\n",
        "  mutate(catchment_area_sqkm = Catchment_Area / 1000000,\n",
        "         cannabis_area_sqkm = Cannabis_Area/ 1000000) %>%\n",
        "  mutate(percent_cover = ((cannabis_area_sqkm/catchment_area_sqkm)*100))\n",
        "## some summaries\n",
        "quantile(cannabis_area$catchment_area_sqkm, c(.1, .25, .5,.75,.9,.95))\n",
        "quantile(cannabis_area$percent_cover, c(.25, .5,.9,.95,.99))\n",
        "max(cannabis_area$percent_cover)\n",
        "\n",
        "## Figure S2 Panel A histogram percent cover of catchments\n",
        "cannabis_pct_cover_hist <- ggplot(data = cannabis_area, (aes(x = percent_cover))) +\n",
        "  geom_histogram()+\n",
        "  xlab('Percent Cover of Cannabis') +\n",
        "  ylab(\"Count\")+\n",
        "  scale_y_log10()+\n",
        "  theme_classic(base_size = 16)\n",
        "cannabis_pct_cover_hist\n",
        "#ggsave(\"202400917_cannabis_pct_cover_hist.png\", plot = cannabis_pct_cover_hist, width = 5, height = 4, dpi = 900)\n",
        "\n",
        "## Figure S2 PanelB histogram of catchment size\n",
        "catchment_size_hist <- ggplot(data = cannabis_area, (aes(x = catchment_area_sqkm))) +\n",
        "  geom_histogram()+\n",
        "  xlab(bquote('Catchment area '(km^2))) +\n",
        "  ylab(element_blank())+\n",
        "  #scale_y_log10()+\n",
        "  theme_classic(base_size = 16)\n",
        "catchment_size_hist\n",
        "#ggsave(\"20240917_catchment_size_hist.png\", plot = catchment_size_hist, width = 5, height = 4, dpi = 900)"
      ],
      "metadata": {
        "colab": {
          "base_uri": "https://localhost:8080/",
          "height": 1000
        },
        "id": "wXrGrEYz91yM",
        "outputId": "b1baaed1-eb08-46c8-9d64-c70565674f86"
      },
      "execution_count": 11,
      "outputs": [
        {
          "output_type": "stream",
          "name": "stderr",
          "text": [
            "\u001b[1mRows: \u001b[22m\u001b[34m1604\u001b[39m \u001b[1mColumns: \u001b[22m\u001b[34m65\u001b[39m\n",
            "\u001b[36m──\u001b[39m \u001b[1mColumn specification\u001b[22m \u001b[36m────────────────────────────────────────────────────────\u001b[39m\n",
            "\u001b[1mDelimiter:\u001b[22m \",\"\n",
            "\u001b[32mdbl\u001b[39m (65): Catchment_ID, Catchment_Area, Cannabis_Area, Cann_Percent_Cover, J...\n",
            "\n",
            "\u001b[36mℹ\u001b[39m Use `spec()` to retrieve the full column specification for this data.\n",
            "\u001b[36mℹ\u001b[39m Specify the column types or set `show_col_types = FALSE` to quiet this message.\n"
          ]
        },
        {
          "output_type": "display_data",
          "data": {
            "text/html": [
              "<style>\n",
              ".dl-inline {width: auto; margin:0; padding: 0}\n",
              ".dl-inline>dt, .dl-inline>dd {float: none; width: auto; display: inline-block}\n",
              ".dl-inline>dt::after {content: \":\\0020\"; padding-right: .5ex}\n",
              ".dl-inline>dt:not(:first-of-type) {padding-left: .5ex}\n",
              "</style><dl class=dl-inline><dt>10%</dt><dd>0.5892001178</dd><dt>25%</dt><dd>1.253096694</dd><dt>50%</dt><dd>2.190309472</dd><dt>75%</dt><dd>3.68976010125</dd><dt>90%</dt><dd>5.9118009716</dd><dt>95%</dt><dd>7.41472924715</dd></dl>\n"
            ],
            "text/markdown": "10%\n:   0.589200117825%\n:   1.25309669450%\n:   2.19030947275%\n:   3.6897601012590%\n:   5.911800971695%\n:   7.41472924715\n\n",
            "text/latex": "\\begin{description*}\n\\item[10\\textbackslash{}\\%] 0.5892001178\n\\item[25\\textbackslash{}\\%] 1.253096694\n\\item[50\\textbackslash{}\\%] 2.190309472\n\\item[75\\textbackslash{}\\%] 3.68976010125\n\\item[90\\textbackslash{}\\%] 5.9118009716\n\\item[95\\textbackslash{}\\%] 7.41472924715\n\\end{description*}\n",
            "text/plain": [
              "      10%       25%       50%       75%       90%       95% \n",
              "0.5892001 1.2530967 2.1903095 3.6897601 5.9118010 7.4147292 "
            ]
          },
          "metadata": {}
        },
        {
          "output_type": "display_data",
          "data": {
            "text/html": [
              "<style>\n",
              ".dl-inline {width: auto; margin:0; padding: 0}\n",
              ".dl-inline>dt, .dl-inline>dd {float: none; width: auto; display: inline-block}\n",
              ".dl-inline>dt::after {content: \":\\0020\"; padding-right: .5ex}\n",
              ".dl-inline>dt:not(:first-of-type) {padding-left: .5ex}\n",
              "</style><dl class=dl-inline><dt>25%</dt><dd>0.0210405440543712</dd><dt>50%</dt><dd>0.0781121961539453</dd><dt>90%</dt><dd>0.425950560219008</dd><dt>95%</dt><dd>0.666261838665065</dd><dt>99%</dt><dd>1.77737801107635</dd></dl>\n"
            ],
            "text/markdown": "25%\n:   0.021040544054371250%\n:   0.078112196153945390%\n:   0.42595056021900895%\n:   0.66626183866506599%\n:   1.77737801107635\n\n",
            "text/latex": "\\begin{description*}\n\\item[25\\textbackslash{}\\%] 0.0210405440543712\n\\item[50\\textbackslash{}\\%] 0.0781121961539453\n\\item[90\\textbackslash{}\\%] 0.425950560219008\n\\item[95\\textbackslash{}\\%] 0.666261838665065\n\\item[99\\textbackslash{}\\%] 1.77737801107635\n\\end{description*}\n",
            "text/plain": [
              "       25%        50%        90%        95%        99% \n",
              "0.02104054 0.07811220 0.42595056 0.66626184 1.77737801 "
            ]
          },
          "metadata": {}
        },
        {
          "output_type": "display_data",
          "data": {
            "text/html": [
              "13.0594093273192"
            ],
            "text/markdown": "13.0594093273192",
            "text/latex": "13.0594093273192",
            "text/plain": [
              "[1] 13.05941"
            ]
          },
          "metadata": {}
        },
        {
          "output_type": "stream",
          "name": "stderr",
          "text": [
            "\u001b[1m\u001b[22m`stat_bin()` using `bins = 30`. Pick better value with `binwidth`.\n",
            "Warning message in scale_y_log10():\n",
            "“\u001b[1m\u001b[22m\u001b[32mlog-10\u001b[39m transformation introduced infinite values.”\n",
            "Warning message:\n",
            "“\u001b[1m\u001b[22mRemoved 18 rows containing missing values or values outside the scale range\n",
            "(`geom_bar()`).”\n",
            "\u001b[1m\u001b[22m`stat_bin()` using `bins = 30`. Pick better value with `binwidth`.\n"
          ]
        },
        {
          "output_type": "display_data",
          "data": {
            "text/plain": [
              "plot without title"
            ],
            "image/png": "[encoded data removed]"
          },
          "metadata": {
            "image/png": {
              "width": 420,
              "height": 420
            }
          }
        },
        {
          "output_type": "display_data",
          "data": {
            "text/plain": [
              "plot without title"
            ],
            "image/png": "[encoded data removed]"
          },
          "metadata": {
            "image/png": {
              "width": 420,
              "height": 420
            }
          }
        }
      ]
    },
    {
      "cell_type": "markdown",
      "source": [
        "Summaries for number of zero-flow days, additional zero-flow days, and reduction in summer flow"
      ],
      "metadata": {
        "id": "AfZfK4IQ_gwT"
      }
    },
    {
      "cell_type": "code",
      "source": [
        "###### Regressions for effect size calculations########\n",
        "# set working directory\n",
        "setwd(\"/Users/Philip/Dropbox/Data/BCC_project\")\n",
        "scenario_data <- read.csv(\"/Users/Philip/Dropbox/Data/BCC_project/files_from_david/20241212_cannaphil_sims.csv\") %>%\n",
        "  select(X, use, impQ, natQ, source, q0, c, g, u)\n",
        "##reformat the data to have one column for each response variable and each predictor variable\n",
        "\n",
        "## make a dataframe that has only Q, not Qnat or Q imp and rows for zero cannabis cover\n",
        "natQ <- scenario_data %>%\n",
        "  filter(u == 0.5,\n",
        "         c == 0.1) %>%\n",
        "  select(X, natQ, source, q0, g) %>%\n",
        "  mutate(c = 0,\n",
        "         u = NA,\n",
        "         impQ = natQ,\n",
        "         use = NA) %>%\n",
        "  select(X, use, impQ, natQ, source, q0, c, g, u)\n",
        "\n",
        "## merge the natQ dataframe, which contains the zero cannabis cover flow rows for all the initial conditions and both gauges with the full dataset\n",
        "### also filter for the parameter values that were chosen for the scenarios\n",
        "scenario_data_all <- scenario_data %>%\n",
        "  rbind(natQ) %>%\n",
        "  mutate(g = as.factor(g),\n",
        "         X = ymd(X)) %>%\n",
        "  filter(c %in% c(0, 0.01, 0.05, 0.1, 0.5, 1, 5, 10),\n",
        "         q0 %in% c(0.1, 0.5, 1, 5, 10))\n",
        "\n",
        "####### Figure 2: Plot representative synthetic hydrographs\n",
        "### select the levels for the scenarios that will be plotted\n",
        "example_hydro <- scenario_data_all %>%\n",
        "  mutate(year = year(X)) %>%\n",
        "  filter(q0 == 1,\n",
        "         c == 5.0,\n",
        "         u == 0.9)\n",
        "\n",
        "natQ_example_hydro <- example_hydro %>%\n",
        "  select(X, natQ, g) %>%\n",
        "  rename(discharge = natQ) %>%\n",
        "  mutate(source = \"unimpaired\")\n",
        "#cannabis water use\n",
        "use_example_hydro <-example_hydro %>%\n",
        "  select(X, use, g) %>%\n",
        "  rename(discharge = use) %>%\n",
        "  mutate(source = \"use\")\n",
        "# impaired for both groundwater and surface diversion\n",
        "impaired_example_hydro <- example_hydro %>%\n",
        "  select(X ,impQ,g, source) %>%\n",
        "  rename(discharge = impQ)\n",
        "#recombine in long format for plotting\n",
        "example_hydro_all <- rbind(natQ_example_hydro, use_example_hydro, impaired_example_hydro) %>%\n",
        "  mutate(stream = case_when(g == 0 ~ \"Dry Creek\",\n",
        "                            g == 11475560 ~ \"Elder Creek\"))\n",
        "\n",
        "## plot hydrographs\n",
        "hydro_example_plot = ggplot(data = example_hydro_all, aes(y = discharge, x = X, color = source)) +\n",
        "  geom_line(size = 1.3)+\n",
        "  facet_grid(~stream,)+\n",
        "  xlab(element_blank()) +\n",
        "  ylab(\"mm/day\")+\n",
        "  theme_classic(base_size = 14)\n",
        "\n",
        "hydro_example_plot\n",
        "ggsave(\"20241213_example_synthetic_hydro_c5_q1_u.9.png\", plot = hydro_example_plot, width =8, height = 5, dpi = 900)\n",
        "\n",
        "## make a dataframe that calculates the % reduction in summer flow and number of days with zero flow\n",
        "reduction_summer_flow <- scenario_data_all %>%\n",
        "  group_by(source, q0, c , g, u) %>%\n",
        "  summarise(natQ_total = sum(natQ),\n",
        "            impQ_total = sum(impQ),\n",
        "            zero_flow_days_natQ = sum(natQ == \"0\"),\n",
        "            zero_flow_days_impQ = sum(impQ == \"0\")) %>%\n",
        "  mutate(percent_reduction_summer_flow = ((natQ_total- impQ_total)/ natQ_total)*100,\n",
        "         additional_zero_flow = (zero_flow_days_impQ - zero_flow_days_natQ),\n",
        "         mm_depletion = (natQ_total - impQ_total))\n",
        "\n",
        "## sort this dataframe to emphasize the low impact scenarios first and the higher impact scenarios later\n",
        "summer_flow_table <- reduction_summer_flow %>%\n",
        "  filter(c == \"1\",\n",
        "         u == \"0.5\",\n",
        "         source == \"surface\",\n",
        "         zero_flow_days_impQ > 0) %>%\n",
        "  arrange( c, q0, u, source )\n",
        "\n",
        "## Figure 3: Summary plots for median water users for percent reduction in summer flow and number of days with zero flow\n",
        "\n",
        "summer_flow_summary <- reduction_summer_flow %>%\n",
        "  filter(u == 0.50) %>%\n",
        "  group_by(c, g, source) %>%\n",
        "  summarise(mean_summer_reduction = mean(percent_reduction_summer_flow),\n",
        "            sd_summer_reduction = sd(percent_reduction_summer_flow),\n",
        "            mean_aditional_zero_flow = mean(additional_zero_flow),\n",
        "            sd_additional_zero_flow = sd(additional_zero_flow)) %>%\n",
        "  mutate(stream = case_when(g == 0 ~ \"Dry Creek\",\n",
        "                            g==11475560 ~\"Elder Creek\"))\n",
        "\n",
        "\n",
        "### Figure 3: combined faceted plot for additional zero flow days and percent reduction in summer flow\n",
        "# Prepare data for additional zero-flow days\n",
        "additional_zero_flow_combined <- summer_flow_summary %>%\n",
        "  mutate(\n",
        "    parameter_estimate = mean_aditional_zero_flow,\n",
        "    std_error = sd_additional_zero_flow,\n",
        "    response = \"Additional zero-flow days\"\n",
        "  ) %>%\n",
        "  select(stream, c, source, response, parameter_estimate, std_error)\n",
        "\n",
        "# Prepare data for percent reduction in summer discharge\n",
        "percent_reduction_combined <- summer_flow_summary %>%\n",
        "  mutate(parameter_estimate = mean_summer_reduction,\n",
        "         std_error = sd_summer_reduction,\n",
        "         response = \"Percent reduction in summer discharge\") %>%\n",
        "  select(stream, c, source, response, parameter_estimate, std_error)\n",
        "\n",
        "# Combine the datasets\n",
        "combined_summary <- rbind(additional_zero_flow_combined, percent_reduction_combined)\n",
        "\n",
        "# Create the combined faceted plot\n",
        "combined_summary_plot <- ggplot(data = combined_summary, aes(y = parameter_estimate, x = c, group = source)) +\n",
        "  geom_errorbar(size = 0.3,\n",
        "                aes(ymin = ifelse(parameter_estimate - std_error < 0, 0, parameter_estimate - std_error),\n",
        "                    ymax = parameter_estimate + std_error,\n",
        "                    width = 0.1),\n",
        "                position = position_dodge(width = 0.1)) +\n",
        "  geom_path(size = 1.1, aes(linetype = source), position = position_dodge(width = 0.1)) +\n",
        "  geom_point(size = 3, aes(shape = source), position = position_dodge(width = 0.1)) +\n",
        "  theme_minimal(base_size = 14) +\n",
        "  theme(strip.background = element_blank()) +\n",
        "  facet_grid(response ~ stream, scales = \"free_y\") +\n",
        "  labs(linetype = NULL,\n",
        "       shape = NULL,\n",
        "       x = \"Percent areal coverage of cannabis agriculture\",\n",
        "       y = element_blank())\n",
        "\n",
        "# Print and save the plot\n",
        "combined_summary_plot\n",
        "ggsave(\"20241213_combined_summary_plot.png\", plot = combined_summary_plot, width = 8, height = 8, dpi = 900)"
      ],
      "metadata": {
        "id": "dpoeRuTp-LQv"
      },
      "execution_count": null,
      "outputs": []
    },
    {
      "cell_type": "markdown",
      "source": [
        "Effect size calculation using regressions and associated plots"
      ],
      "metadata": {
        "id": "LgMSbNua_Tp8"
      }
    },
    {
      "cell_type": "code",
      "source": [
        "## Regressions to get parameter estimates for each of the explanatory variables to use as effect sizes, different models for each stream\n",
        "##total summer flow\n",
        "summer_flow_model_elder <- lm(data = filter(reduction_summer_flow, g == \"11475560\"), impQ_total ~ source + q0 + c + u)\n",
        "summary(summer_flow_model_elder)\n",
        "\n",
        "summer_flow_model_dry <- lm(data = filter(reduction_summer_flow, g == \"0\"), impQ_total ~ source + q0 + c + u)\n",
        "summary(summer_flow_model_dry)\n",
        "\n",
        "## number of days with zero flow\n",
        "zero_flow_days_model_elder <-lm(data = filter(reduction_summer_flow, g == \"11475560\"), zero_flow_days_impQ ~ source + q0 + c + u  )\n",
        "summary(zero_flow_days_model_elder)\n",
        "\n",
        "zero_flow_days_model_dry <-lm(data = filter(reduction_summer_flow, g == \"0\"), zero_flow_days_impQ ~ source + q0 + c+ u )\n",
        "summary(zero_flow_days_model_dry)\n",
        "\n",
        "#additional days with zero flow\n",
        "additional_zero_flow_days_model_elder <- lm(data = filter(reduction_summer_flow, g == \"11475560\"), additional_zero_flow ~ source + q0 + c + u )\n",
        "summary(zero_flow_days_model_dry)\n",
        "\n",
        "additional_zero_flow_days_model_dry <- lm(data = filter(reduction_summer_flow, g == \"0\"), additional_zero_flow ~ source + q0 + c + u )\n",
        "summary(zero_flow_days_model_dry)\n",
        "\n",
        "# extract parameter estimates, names and std error as vectors and make them into a dataframe for each model\n",
        "## effect size plot for summer flow\n",
        "#extract everything for elder and make it into a dataframe\n",
        "summer_flow_parameters_elder <- names(summer_flow_model_elder$coefficients)\n",
        "summer_flow_estimates_elder <- summer_flow_model_elder$coefficients\n",
        "summer_flow_std_error_elder <- sqrt(diag(vcov(summer_flow_model_elder)))\n",
        "summer_flow_effect_size_elder <- tibble(\n",
        "  parameter_names = summer_flow_parameters_elder,\n",
        "  estimates = summer_flow_estimates_elder,\n",
        "  std_error = summer_flow_std_error_elder) %>%\n",
        "  filter(parameter_names != \"(Intercept)\") %>%\n",
        "  mutate(\n",
        "    parameter_names = case_when(\n",
        "      parameter_names == \"u\" ~ \"farm use efficiency\",\n",
        "      parameter_names == \"sourcesurface\" ~ \"source:surface\",\n",
        "      parameter_names == \"q0\" ~ \"initial conditions (mm storage)\",\n",
        "      parameter_names == \"c\" ~ \"% areal coverage of cannabis\"),\n",
        "    stream = \"Elder Creek\") %>%\n",
        "  select(stream, parameter_names, estimates, std_error)\n",
        "\n",
        "##now do the same for Dry Creek\n",
        "summer_flow_parameters_dry <- names(summer_flow_model_dry$coefficients)\n",
        "summer_flow_estimates_dry <- summer_flow_model_dry$coefficients\n",
        "summer_flow_std_error_dry <- sqrt(diag(vcov(summer_flow_model_dry)))\n",
        "##updated\n",
        "summer_flow_effect_size_dry <- tibble(\n",
        "  parameter_names = summer_flow_parameters_dry,\n",
        "  estimates = summer_flow_estimates_dry,\n",
        "  std_error = summer_flow_std_error_dry) %>%\n",
        "  filter(parameter_names != \"(Intercept)\") %>%\n",
        "  mutate(\n",
        "    parameter_names = case_when(\n",
        "      parameter_names == \"u\" ~ \"farm use efficiency\",\n",
        "      parameter_names == \"sourcesurface\" ~ \"source:surface\",\n",
        "      parameter_names == \"q0\" ~ \"initial conditions (mm storage)\",\n",
        "      parameter_names == \"c\" ~ \"% areal coverage of cannabis\"),\n",
        "    stream = \"Dry Creek\") %>%\n",
        "  select(stream, parameter_names, estimates, std_error)\n",
        "\n",
        "## merge into one dataframe that has both streams\n",
        "summer_flow_effect_size<- rbind(summer_flow_effect_size_dry,summer_flow_effect_size_elder)\n",
        "##plot parameter estimates and error bards that are SE\n",
        "summer_flow_effect_size_plot <- ggplot(data = summer_flow_effect_size, aes(y = estimates, x = parameter_names)) +\n",
        "  geom_point(size = 4)+\n",
        "  geom_errorbar(aes(ymin=estimates-std_error, ymax=estimates+std_error, width = 0.1))+\n",
        "  coord_flip()+\n",
        "  theme_bw(base_size = 14)+\n",
        "  ylab(\"parameter estimate\")+\n",
        "  facet_grid(~stream, scale = \"free\")+\n",
        "  xlab(element_blank())+\n",
        "  theme(strip.background = element_blank())\n",
        "summer_flow_effect_size_plot\n",
        "#ggsave(\"20241213_summer_flow_effect_size_plot.png\", plot = summer_flow_effect_size_plot, width = 8, height = 5, dpi = 900)\n",
        "\n",
        "#effect size plot for number of dry days\n",
        "#updated\n",
        "# Extract parameter names, estimates, and standard errors for the model\n",
        "zero_flow_days_parameters_elder <- names(zero_flow_days_model_elder$coefficients)\n",
        "zero_flow_days_estimates_elder <- zero_flow_days_model_elder$coefficients\n",
        "zero_flow_days_std_error_elder <- sqrt(diag(vcov(zero_flow_days_model_elder)))\n",
        "\n",
        "# Create a data frame with parameter names, estimates, and standard errors\n",
        "zero_flow_days_effect_size_elder <- tibble(\n",
        "  parameter_names = zero_flow_days_parameters_elder,\n",
        "  estimates = zero_flow_days_estimates_elder,\n",
        "  std_error = zero_flow_days_std_error_elder) %>%\n",
        "  filter(parameter_names != \"(Intercept)\") %>%\n",
        "  mutate(\n",
        "    parameter_names = case_when(\n",
        "      parameter_names == \"u\" ~ \"farm use efficiency\",\n",
        "      parameter_names == \"sourcesurface\" ~ \"source:surface\",\n",
        "      parameter_names == \"q0\" ~ \"initial conditions (flow)\",\n",
        "      parameter_names == \"c\" ~ \"% areal coverage of cannabis\"),\n",
        "    stream = \"Elder Creek\") %>%\n",
        "  select(stream, parameter_names, estimates, std_error)\n",
        "\n",
        "##now do the same for Dry Creek\n",
        "#updated\n",
        "# Extract parameter names, estimates, and standard errors for the model\n",
        "zero_flow_days_parameters_dry <- names(zero_flow_days_model_dry$coefficients)\n",
        "zero_flow_days_estimates_dry <- zero_flow_days_model_dry$coefficients\n",
        "zero_flow_days_std_error_dry <- sqrt(diag(vcov(zero_flow_days_model_dry)))\n",
        "\n",
        "# Create a data frame with parameter names, estimates, and standard errors\n",
        "zero_flow_days_effect_size_dry <- tibble(\n",
        "  parameter_names = zero_flow_days_parameters_dry,\n",
        "  estimates = zero_flow_days_estimates_dry,\n",
        "  std_error = zero_flow_days_std_error_dry) %>%\n",
        "  # Filter out the intercept and map parameter names for clarity\n",
        "  filter(parameter_names != \"(Intercept)\") %>%\n",
        "  mutate(\n",
        "    parameter_names = case_when(\n",
        "      parameter_names == \"u\" ~ \"farm use efficiency\",\n",
        "      parameter_names == \"sourcesurface\" ~ \"source:surface\",\n",
        "      parameter_names == \"q0\" ~ \"initial conditions (flow)\",\n",
        "      parameter_names == \"c\" ~ \"% areal coverage of cannabis\"),\n",
        "    stream = \"Dry Creek\") %>%\n",
        "  select(stream, parameter_names, estimates, std_error)\n",
        "\n",
        "## merge into one dataframe that has both streams\n",
        "zero_flow_days_effect_size<- rbind(zero_flow_days_effect_size_dry,zero_flow_days_effect_size_elder)\n",
        "\n",
        "zero_flow_days_effect_size_plot <- ggplot(data = zero_flow_days_effect_size, aes(y = estimates, x = parameter_names)) +\n",
        "  geom_point(size = 4)+\n",
        "  geom_errorbar(aes(ymin=estimates - std_error, ymax=estimates + std_error, width = 0.1))+\n",
        "  coord_flip()+\n",
        "  theme_bw(base_size = 14)+\n",
        "  facet_grid(~stream, scale = \"free\")+\n",
        "  ylab(\"parameter estimate\")+\n",
        "  xlab(element_blank())+\n",
        "  theme(strip.background = element_blank())+\n",
        "  ggtitle(\"Zero-flow days\")\n",
        "zero_flow_days_effect_size_plot\n",
        "#ggsave(\"20241213_zero_flow_effect_size.png\", plot = zero_flow_days_effect_size_plot, width =8, height = 5, dpi = 900)\n",
        "\n",
        "##effect size for # of additional dry days\n",
        "# For Elder Creek\n",
        "additional_zero_flow_days_parameters_elder <- names(additional_zero_flow_days_model_elder$coefficients)\n",
        "additional_zero_flow_days_estimates_elder <- additional_zero_flow_days_model_elder$coefficients\n",
        "additional_zero_flow_days_std_error_elder <- sqrt(diag(vcov(additional_zero_flow_days_model_elder)))\n",
        "additional_zero_flow_days_effect_size_elder <- tibble(\n",
        "  parameter_names = additional_zero_flow_days_parameters_elder,\n",
        "  estimates = additional_zero_flow_days_estimates_elder,\n",
        "  std_error = additional_zero_flow_days_std_error_elder\n",
        ") %>%\n",
        "  filter(parameter_names != \"(Intercept)\") %>%\n",
        "  mutate(\n",
        "    parameter_names = case_when(\n",
        "      parameter_names == \"u\" ~ \"farm use efficiency\",\n",
        "      parameter_names == \"sourcesurface\" ~ \"source:surface\",\n",
        "      parameter_names == \"q0\" ~ \"initial conditions (flow)\",\n",
        "      parameter_names == \"c\" ~ \"% areal coverage of cannabis\"\n",
        "    ),\n",
        "    stream = \"Elder\"\n",
        "  ) %>%\n",
        "  select(stream, parameter_names, estimates, std_error)\n",
        "\n",
        "# For Dry Creek\n",
        "additional_zero_flow_days_parameters_dry <- names(additional_zero_flow_days_model_dry$coefficients)\n",
        "additional_zero_flow_days_estimates_dry <- additional_zero_flow_days_model_dry$coefficients\n",
        "additional_zero_flow_days_std_error_dry <- sqrt(diag(vcov(additional_zero_flow_days_model_dry)))\n",
        "additional_zero_flow_days_effect_size_dry <- tibble(\n",
        "  parameter_names = additional_zero_flow_days_parameters_dry,\n",
        "  estimates = additional_zero_flow_days_estimates_dry,\n",
        "  std_error = additional_zero_flow_days_std_error_dry\n",
        ") %>%\n",
        "  filter(parameter_names != \"(Intercept)\") %>%\n",
        "  mutate(\n",
        "    parameter_names = case_when(\n",
        "      parameter_names == \"u\" ~ \"farm use efficiency\",\n",
        "      parameter_names == \"sourcesurface\" ~ \"source:surface\",\n",
        "      parameter_names == \"q0\" ~ \"initial conditions (flow)\",\n",
        "      parameter_names == \"c\" ~ \"% areal coverage of cannabis\"\n",
        "    ),\n",
        "    stream = \"Dry\"\n",
        "  ) %>%\n",
        "  select(stream, parameter_names, estimates, std_error)\n",
        "## merge into one dataframe that has both streams\n",
        "additional_zero_flow_days_effect_size<- rbind(additional_zero_flow_days_effect_size_dry,additional_zero_flow_days_effect_size_elder)\n",
        "\n",
        "additional_zero_flow_days_effect_size_plot <- ggplot(data = additional_zero_flow_days_effect_size, aes(y = estimates, x = parameter_names)) +\n",
        "  geom_point(size = 4)+\n",
        "  geom_errorbar(aes(ymin=estimates - std_error, ymax=estimates + std_error, width = 0.1))+\n",
        "  coord_flip()+\n",
        "  theme_bw(base_size = 14)+\n",
        "  facet_grid(~stream, scale = \"free\")+\n",
        "  ylab(\"parameter estimate\")+\n",
        "  xlab(element_blank())+\n",
        "  theme(strip.background = element_blank())+\n",
        "  ggtitle(\"Additional zero-flow days\")\n",
        "additional_zero_flow_days_effect_size_plot\n",
        "#ggsave(\"20241213_additional_zero_flow_effect_size.png\", plot = additional_zero_flow_days_effect_size_plot, width =8, height = 5, dpi = 900)\n",
        "\n",
        "# Figure 5 effect size: combined faceted plot for zero flow days and summer flow\n",
        "\n",
        "summer_flow_combined <- summer_flow_effect_size %>%\n",
        "  mutate(parameter_estimate = estimates,\n",
        "         std_error = std_error,\n",
        "         response = \"Total summer discharge\") %>%\n",
        "  select(stream, parameter_names,response, parameter_estimate, std_error)\n",
        "\n",
        "zero_flow_combined <- zero_flow_days_effect_size %>%\n",
        "  mutate(parameter_estimate = estimates,\n",
        "         std_error = std_error,\n",
        "         response = \"Zero flow days\") %>%\n",
        "  select(stream, parameter_names,response, parameter_estimate, std_error)\n",
        "\n",
        "effect_size_combined <- rbind(summer_flow_combined, zero_flow_combined)\n",
        "\n",
        "## make the combined plot\n",
        "combined_effect_size_plot <- ggplot(data = effect_size_combined, aes(y = parameter_estimate, x = parameter_names)) +\n",
        "  geom_point(size = 4)+\n",
        "  geom_errorbar(aes(ymin=parameter_estimate-std_error, ymax=parameter_estimate+std_error, width = 0.1))+\n",
        "  coord_flip()+\n",
        "  theme_bw(base_size = 14)+\n",
        "  facet_grid(response ~ stream, scale = \"free\")+\n",
        "  ylab(\"parameter estimate\")+\n",
        "  xlab(element_blank())+\n",
        "  theme(strip.background = element_blank())\n",
        "combined_effect_size_plot\n",
        "ggsave(\"20241213_combined_effect_size.png\", plot = combined_effect_size_plot, width =8, height = 6, dpi = 900)\n"
      ],
      "metadata": {
        "id": "AKsbmhnX_JTW"
      },
      "execution_count": null,
      "outputs": []
    }
  ]
}